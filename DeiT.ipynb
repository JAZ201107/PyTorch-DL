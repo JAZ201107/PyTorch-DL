{
  "cells": [
    {
      "cell_type": "markdown",
      "metadata": {
        "id": "view-in-github",
        "colab_type": "text"
      },
      "source": [
        "<a href=\"https://colab.research.google.com/github/JAZ201107/PyTorch-DL/blob/main/DeiT.ipynb\" target=\"_parent\"><img src=\"https://colab.research.google.com/assets/colab-badge.svg\" alt=\"Open In Colab\"/></a>"
      ]
    },
    {
      "cell_type": "code",
      "execution_count": null,
      "metadata": {
        "id": "LNt0FkHTpuB5"
      },
      "outputs": [],
      "source": [
        "import torch\n",
        "import torch.nn as nn\n",
        "import torch.nn.functional as F"
      ]
    },
    {
      "cell_type": "markdown",
      "metadata": {
        "id": "HSbz9jUVpuB8"
      },
      "source": [
        "![](https://noblecatt-1304922865.cos.ap-singapore.myqcloud.com/202412101618419.png)\n"
      ]
    },
    {
      "cell_type": "code",
      "execution_count": null,
      "metadata": {
        "id": "Ph7g98B0puB8"
      },
      "outputs": [],
      "source": [
        "class SoftDistillationLoss(nn.Module):\n",
        "    def __init__(self, teacher, alpha=0.5, tau=0.2):\n",
        "        super().__init__()\n",
        "\n",
        "        self.ce = nn.CrossEntropyLoss()\n",
        "        self.kl = nn.KLDivLoss(reduction=\"batchmean\")\n",
        "\n",
        "        self.teacher = teacher\n",
        "        self.alpha = alpha\n",
        "        self.tau = tau\n",
        "\n",
        "    def forward(self, inputs, outputs, labels):\n",
        "\n",
        "        base_loss = self.ce(outputs, labels)\n",
        "\n",
        "        with torch.no_grad():\n",
        "            teacher_outputs = self.teacher(inputs)\n",
        "\n",
        "        soft_loss = self.kl(\n",
        "            F.log_softmax(outputs / self.tau, dim=1),\n",
        "            F.softmax(teacher_outputs / self.tau, dim=1),\n",
        "        ) * (self.tau**2)\n",
        "\n",
        "        return (1 - self.alpha) * base_loss + self.alpha * soft_loss"
      ]
    },
    {
      "cell_type": "markdown",
      "metadata": {
        "id": "ND9c3Y7IpuB9"
      },
      "source": [
        "![](https://noblecatt-1304922865.cos.ap-singapore.myqcloud.com/202412101618723.png)\n"
      ]
    },
    {
      "cell_type": "code",
      "execution_count": null,
      "metadata": {
        "id": "ljtXBTQ8puB9"
      },
      "outputs": [],
      "source": [
        "class HardDistillationLoss(nn.Module):\n",
        "    def __init__(self, teacher):\n",
        "        super().__init__()\n",
        "\n",
        "        self.teacher = teacher\n",
        "        self.criterion = nn.CrossEntropyLoss()\n",
        "\n",
        "    def forward(self, inputs, outputs, labels):\n",
        "        base_loss = self.criterion(outputs, labels)\n",
        "\n",
        "        with torch.no_grad():\n",
        "            self.teacher.eval()\n",
        "            teacher_outputs = self.teacher(inputs)\n",
        "\n",
        "        teacher_labels = torch.argmax(teacher_outputs, dim=-1)\n",
        "        teacher_loss = self.criterion(outputs, teacher_outputs)\n",
        "\n",
        "        return (base_loss + teacher_loss) / 2"
      ]
    },
    {
      "cell_type": "markdown",
      "metadata": {
        "id": "_MJQMjk3puB9"
      },
      "source": [
        "![](https://noblecatt-1304922865.cos.ap-singapore.myqcloud.com/202412101531507.png)\n"
      ]
    },
    {
      "cell_type": "code",
      "execution_count": null,
      "metadata": {
        "id": "U5YdrXzhpuB9"
      },
      "outputs": [],
      "source": [
        "class PatchEmbedding(nn.Module):\n",
        "    def __init__(self, in_channels=3, patch_size=16, emb_size=768, img_size=224):\n",
        "        super().__init__()\n",
        "\n",
        "        self.patch_size = patch_size\n",
        "\n",
        "        self.projection = nn.Sequential(\n",
        "            nn.Conv2d(in_channels, emb_size, kernel_size=patch_size, stride=patch_size),\n",
        "            nn.Flatten(start_dim=2),\n",
        "        )  # (B, E, patch_size * patch_size)\n",
        "\n",
        "        self.cls_token = nn.Parameter(torch.randn(1, 1, emb_size))\n",
        "        self.dis_token = nn.Parameter(torch.randn(1, 1, emb_size))\n",
        "\n",
        "        self.position = nn.Parameter(\n",
        "            torch.randn((img_size // patch_size) ** 2 + 2, emb_size)\n",
        "        )\n",
        "\n",
        "    def forward(self, x):\n",
        "        B, C, H, W = x.shape\n",
        "\n",
        "        x = self.projection(x)\n",
        "        x = x.transpose(1, 2)\n",
        "\n",
        "        cls_tokens = self.cls_token.expand(B, -1, -1)\n",
        "        dis_tokens = self.dis_token.expand(B, -1, -1)\n",
        "\n",
        "        x = torch.cat((cls_tokens, dis_tokens, x), dim=1)\n",
        "        x += self.position\n",
        "\n",
        "        return x"
      ]
    },
    {
      "cell_type": "code",
      "execution_count": null,
      "metadata": {
        "id": "0QE2-96XpuB-"
      },
      "outputs": [],
      "source": [
        "class ClassificationHead(nn.Module):\n",
        "    def __init__(self, emb_size=768, n_class=1000):\n",
        "        super().__init__()\n",
        "\n",
        "        self.head = nn.Linear(emb_size, n_class)\n",
        "        self.dist_head = nn.Linear(emb_size, n_class)\n",
        "\n",
        "    def forward(self, x):\n",
        "        x, x_dist = x[:, 0, :], x[:, -1, :]\n",
        "        # Classification head\n",
        "        x_head = self.head(x)\n",
        "        # Distillation head\n",
        "        x_dist_head = self.dist_head(x_dist)\n",
        "\n",
        "        if self.training:\n",
        "            return x_head, x_dist_head\n",
        "        else:\n",
        "            return (x_head + x_dist_head) / 2"
      ]
    },
    {
      "cell_type": "code",
      "execution_count": null,
      "metadata": {
        "id": "YJJOmDjCpuB-"
      },
      "outputs": [],
      "source": [
        "class MultiHeadAttention(nn.Module):\n",
        "    def __init__(self, embed_size, num_heads=8, dropout=0.1):\n",
        "        super().__init__()\n",
        "\n",
        "        self.embed_size = embed_size\n",
        "        self.num_heads = num_heads\n",
        "        assert (\n",
        "            embed_size % num_heads == 0\n",
        "        ), \"Embedding dimension must be  a multiple of number of heads\"\n",
        "\n",
        "        self.head_dim = embed_size // num_heads\n",
        "\n",
        "        self.qkv_lin = nn.Linear(embed_size, embed_size * 3)\n",
        "\n",
        "        self.attn_drop = nn.Dropout(dropout)\n",
        "        self.projection = nn.Linear(embed_size, embed_size)\n",
        "\n",
        "    def forward(self, x):\n",
        "        B, N, E = x.shape\n",
        "\n",
        "        qkv = self.qkv_lin(x)\n",
        "        q, k, v = qkv.chunk(3, dim=-1)\n",
        "\n",
        "        q = q.reshape(B, N, self.num_heads, self.head_dim).transpose(1, 2)\n",
        "        k = k.reshape(B, N, self.num_heads, self.head_dim).transpose(1, 2)\n",
        "        v = v.reshape(B, N, self.num_heads, self.head_dim).transpose(1, 2)\n",
        "\n",
        "        attn_weights = (q @ k.transpose(-2, -1)) * (self.head_dim**-0.5)\n",
        "        attn_weights = F.softmax(attn_weights, dim=-1)\n",
        "        attn_weights = self.attn_drop(attn_weights)\n",
        "\n",
        "        x = (attn_weights @ v).transpose(1, 2).reshape(B, N, E)\n",
        "        x = self.projection(x)\n",
        "\n",
        "        return x"
      ]
    },
    {
      "cell_type": "code",
      "execution_count": null,
      "metadata": {
        "id": "MhtTXmDNpuB-"
      },
      "outputs": [],
      "source": [
        "class FeedForwardBlock(nn.Module):\n",
        "    def __init__(self, embed_size, expansion_factor=4, dropout=0.1):\n",
        "        super().__init__()\n",
        "\n",
        "        self.ln1 = nn.Linear(embed_size, embed_size * expansion_factor)\n",
        "        self.act = nn.GELU()\n",
        "        self.dropout = nn.Dropout(dropout)\n",
        "        self.ln2 = nn.Linear(embed_size * expansion_factor, embed_size)\n",
        "\n",
        "    def forward(self, x):\n",
        "        x = self.ln1(x)\n",
        "        x = self.act(x)\n",
        "        x = self.dropout(x)\n",
        "        x = self.ln2(x)\n",
        "\n",
        "        return x"
      ]
    },
    {
      "cell_type": "code",
      "execution_count": null,
      "metadata": {
        "id": "4ojc5oLmpuB-"
      },
      "outputs": [],
      "source": [
        "class TransformerEncoderBlock(nn.Module):\n",
        "    def __init__(self, embed_size, num_heads, expansion_factor, dropout):\n",
        "        super().__init__()\n",
        "\n",
        "        self.ln1 = nn.LayerNorm(embed_size)\n",
        "        self.attn = MultiHeadAttention(embed_size, num_heads, dropout)\n",
        "        self.ln2 = nn.LayerNorm(embed_size)\n",
        "        self.ff = FeedForwardBlock(embed_size, expansion_factor, dropout)\n",
        "\n",
        "        self.dropout = nn.Dropout(dropout)\n",
        "\n",
        "    def forward(self, x):\n",
        "        residual = x\n",
        "\n",
        "        x = self.dropout(self.attn(self.ln1(x)))\n",
        "        x += residual\n",
        "\n",
        "        residual = x\n",
        "        x = self.dropout(self.ff(self.ln2(x)))\n",
        "        x += residual\n",
        "\n",
        "        return x"
      ]
    },
    {
      "cell_type": "code",
      "execution_count": null,
      "metadata": {
        "id": "p0_YPI6gpuB-"
      },
      "outputs": [],
      "source": [
        "class ViTTransformer(nn.Module):\n",
        "    def __init__(\n",
        "        self,\n",
        "        in_channels,\n",
        "        patch_size,\n",
        "        emb_size,\n",
        "        img_size,\n",
        "        num_layers,\n",
        "        num_heads,\n",
        "        expansion_factor,\n",
        "        dropout,\n",
        "        n_class,\n",
        "    ):\n",
        "        super().__init__()\n",
        "\n",
        "        self.patch_embed = PatchEmbedding(in_channels, patch_size, emb_size, img_size)\n",
        "\n",
        "        self.transformer = nn.Sequential(\n",
        "            *[\n",
        "                TransformerEncoderBlock(emb_size, num_heads, expansion_factor, dropout)\n",
        "                for _ in range(num_layers)\n",
        "            ]\n",
        "        )\n",
        "\n",
        "        self.classification_head = ClassificationHead(emb_size, n_class)\n",
        "\n",
        "    def forward(self, x):\n",
        "        x = self.patch_embed(x)\n",
        "        x = self.transformer(x)\n",
        "        x = self.classification_head(x)\n",
        "\n",
        "        return x"
      ]
    },
    {
      "cell_type": "markdown",
      "metadata": {
        "id": "0IODSWoSpuB-"
      },
      "source": []
    },
    {
      "cell_type": "code",
      "execution_count": null,
      "metadata": {
        "id": "63YLnYQvpuB_"
      },
      "outputs": [],
      "source": [
        "# Now, Starting training\n",
        "import timm\n",
        "\n",
        "# Use Convolutions instead\n",
        "teacher_model = timm.create_model(\"res\", pretrained=True)\n",
        "student_model = ViTTransformer(\n",
        "    in_channels=3,\n",
        "    patch_size=16,\n",
        "    emb_size=768,\n",
        "    img_size=224,\n",
        "    num_layers=12,\n",
        "    num_heads=12,\n",
        "    expansion_factor=4,\n",
        "    dropout=0.1,\n",
        "    n_class=1000,\n",
        ")\n",
        "\n",
        "criterion = HardDistillationLoss(teacher_model)"
      ]
    }
  ],
  "metadata": {
    "kernelspec": {
      "display_name": "base",
      "language": "python",
      "name": "python3"
    },
    "language_info": {
      "codemirror_mode": {
        "name": "ipython",
        "version": 3
      },
      "file_extension": ".py",
      "mimetype": "text/x-python",
      "name": "python",
      "nbconvert_exporter": "python",
      "pygments_lexer": "ipython3",
      "version": "3.12.2"
    },
    "colab": {
      "provenance": [],
      "include_colab_link": true
    }
  },
  "nbformat": 4,
  "nbformat_minor": 0
}